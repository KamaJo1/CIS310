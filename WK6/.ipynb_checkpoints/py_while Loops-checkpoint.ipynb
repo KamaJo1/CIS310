{
 "cells": [
  {
   "cell_type": "markdown",
   "metadata": {},
   "source": [
    "# Joseph Kamara\n",
    "## Week 6: 2/22/2022\n",
    "### Python while Loops\n"
   ]
  },
  {
   "cell_type": "markdown",
   "metadata": {},
   "source": [
    "** The general format of Python while loops:**\n",
    "<code> while test: \n",
    "    \n",
    "    statemts </code>"
   ]
  },
  {
   "cell_type": "code",
   "execution_count": 1,
   "metadata": {},
   "outputs": [
    {
     "name": "stdout",
     "output_type": "stream",
     "text": [
      "num is currently: 1\n",
      "num is less than or equal 6, now adding 1 to num\n",
      "num is currently: 2\n",
      "num is less than or equal 6, now adding 1 to num\n",
      "num is currently: 3\n",
      "num is less than or equal 6, now adding 1 to num\n",
      "num is currently: 4\n",
      "num is less than or equal 6, now adding 1 to num\n",
      "num is currently: 5\n",
      "num is less than or equal 6, now adding 1 to num\n",
      "num after while loop is currently 6\n"
     ]
    }
   ],
   "source": [
    "num = 1 \n",
    "while num <6: \n",
    "    print ('num is currently:', num)\n",
    "    print('num is less than or equal 6, now adding 1 to num')\n",
    "    num =num+1\n",
    "else: \n",
    "    print ('num after while loop is currently', num)"
   ]
  },
  {
   "cell_type": "code",
   "execution_count": 2,
   "metadata": {},
   "outputs": [
    {
     "name": "stdout",
     "output_type": "stream",
     "text": [
      "sum = 55\n"
     ]
    }
   ],
   "source": [
    "num = 1 \n",
    "sum = 0\n",
    "while num <= 10:\n",
    "        sum = num+sum\n",
    "        num = num +1\n",
    "else: \n",
    "    print ('sum =', sum)\n",
    "    "
   ]
  },
  {
   "cell_type": "code",
   "execution_count": 3,
   "metadata": {},
   "outputs": [
    {
     "name": "stdout",
     "output_type": "stream",
     "text": [
      "10\n",
      "12\n",
      "13\n",
      "14\n",
      "15\n"
     ]
    }
   ],
   "source": [
    "a = [10,12,13,14,15]\n",
    "i= 0\n",
    "\n",
    "while i < len(a): \n",
    "    print(a[i])\n",
    "    i+=1"
   ]
  },
  {
   "cell_type": "code",
   "execution_count": 4,
   "metadata": {},
   "outputs": [
    {
     "name": "stdout",
     "output_type": "stream",
     "text": [
      "15\n",
      "14\n",
      "13\n",
      "12\n",
      "10\n"
     ]
    }
   ],
   "source": [
    "a = [10,12,13,14,15]\n",
    "\n",
    "while a:\n",
    "    print(a.pop())\n",
    "    "
   ]
  },
  {
   "cell_type": "code",
   "execution_count": 5,
   "metadata": {},
   "outputs": [
    {
     "data": {
      "text/plain": [
       "[]"
      ]
     },
     "execution_count": 5,
     "metadata": {},
     "output_type": "execute_result"
    }
   ],
   "source": [
    "a"
   ]
  },
  {
   "cell_type": "code",
   "execution_count": 6,
   "metadata": {},
   "outputs": [
    {
     "name": "stdout",
     "output_type": "stream",
     "text": [
      "this num is an even number 2\n",
      "this num is an even number 4\n",
      "this num is an even number 6\n",
      "this num is an even number 8\n",
      "this num is an even number 10\n"
     ]
    }
   ],
   "source": [
    "#continue keyword \n",
    "num = 0\n",
    "while num <10: \n",
    "    num +=1\n",
    "    if num % 2 == 1:\n",
    "        continue\n",
    "    else: \n",
    "        print('this num is an even number', num)"
   ]
  },
  {
   "cell_type": "code",
   "execution_count": 2,
   "metadata": {},
   "outputs": [],
   "source": [
    "a = 'cis310DataAnalyticsClass'\n",
    "i = 0 \n",
    "while i < len(a):\n",
    "    i+=1\n",
    "    if (i % 2 == 0 ):\n",
    "        \n",
    "        print(a[i])\n",
    "    else:\n",
    "        pass\n",
    "    i+=1\n",
    "    "
   ]
  },
  {
   "cell_type": "code",
   "execution_count": null,
   "metadata": {},
   "outputs": [],
   "source": []
  }
 ],
 "metadata": {
  "kernelspec": {
   "display_name": "Python 3.7 - default",
   "language": "python",
   "name": "py37_default"
  },
  "language_info": {
   "codemirror_mode": {
    "name": "ipython",
    "version": 3
   },
   "file_extension": ".py",
   "mimetype": "text/x-python",
   "name": "python",
   "nbconvert_exporter": "python",
   "pygments_lexer": "ipython3",
   "version": "3.7.7"
  }
 },
 "nbformat": 4,
 "nbformat_minor": 4
}
