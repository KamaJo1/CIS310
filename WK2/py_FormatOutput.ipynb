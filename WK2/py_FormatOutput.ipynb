{
 "cells": [
  {
   "cell_type": "markdown",
   "metadata": {},
   "source": [
    "# Joseph Kamara\n",
    "## Week 2: 1/27/22 - 2/1/2022\n",
    "### Python Formatting output"
   ]
  },
  {
   "cell_type": "code",
   "execution_count": 4,
   "metadata": {},
   "outputs": [
    {
     "name": "stdout",
     "output_type": "stream",
     "text": [
      "The quick brown cat jumps over the lazy dog\n"
     ]
    }
   ],
   "source": [
    "#using the module operator (%) to format strings\n",
    "    print (\"The quick brown %s jumps over the lazy dog\" %'cat')"
   ]
  },
  {
   "cell_type": "code",
   "execution_count": 6,
   "metadata": {},
   "outputs": [
    {
     "name": "stdout",
     "output_type": "stream",
     "text": [
      "The quick brown Fox jumps over the lazy dog \n"
     ]
    }
   ],
   "source": [
    "print (\"The quick brown %s jumps over the lazy %s \"%('Fox','dog'))"
   ]
  },
  {
   "cell_type": "code",
   "execution_count": 7,
   "metadata": {},
   "outputs": [],
   "source": [
    "name1, name2 = 'fox','dog"
   ]
  },
  {
   "cell_type": "markdown",
   "metadata": {},
   "source": [
    "print (\"The quick brown %s jumps over the lazy %s \"%(name1,name2))"
   ]
  },
  {
   "cell_type": "code",
   "execution_count": 8,
   "metadata": {},
   "outputs": [
    {
     "name": "stdout",
     "output_type": "stream",
     "text": [
      "The quick brown fox jumps over the lazy dog \n"
     ]
    }
   ],
   "source": [
    "print (\"The quick brown %s jumps over the lazy %s \"%(name1,name2))"
   ]
  },
  {
   "cell_type": "code",
   "execution_count": 19,
   "metadata": {},
   "outputs": [
    {
     "name": "stdout",
     "output_type": "stream",
     "text": [
      "The quick brown cat jumps over the lazy 'dog' \n"
     ]
    }
   ],
   "source": [
    "print (\"The quick brown %s jumps over the lazy %r \" %('cat',name2))"
   ]
  },
  {
   "cell_type": "code",
   "execution_count": 20,
   "metadata": {},
   "outputs": [
    {
     "name": "stdout",
     "output_type": "stream",
     "text": [
      "My score is 98.99 in CIS310\n"
     ]
    }
   ],
   "source": [
    "#Formating number \n",
    "print(\"My score is %s in CIS310\" %98.99)"
   ]
  },
  {
   "cell_type": "code",
   "execution_count": 22,
   "metadata": {},
   "outputs": [
    {
     "name": "stdout",
     "output_type": "stream",
     "text": [
      "My score is 98.99 in CIS310\n"
     ]
    }
   ],
   "source": [
    "print(\"My score is %5.2f in CIS310\" %98.99346789)"
   ]
  },
  {
   "cell_type": "code",
   "execution_count": 23,
   "metadata": {},
   "outputs": [
    {
     "name": "stdout",
     "output_type": "stream",
     "text": [
      "My score is      98.99 in CIS310\n"
     ]
    }
   ],
   "source": [
    "print(\"My score is %10.2f in CIS310\" %98.99346789)"
   ]
  },
  {
   "cell_type": "code",
   "execution_count": 24,
   "metadata": {},
   "outputs": [
    {
     "name": "stdout",
     "output_type": "stream",
     "text": [
      "My score is 98.9935 in CIS310\n"
     ]
    }
   ],
   "source": [
    "print(\"My score is %5.4f in CIS310\" %98.99346789)"
   ]
  },
  {
   "cell_type": "code",
   "execution_count": 26,
   "metadata": {},
   "outputs": [
    {
     "name": "stdout",
     "output_type": "stream",
     "text": [
      "My score is 98.9935 in CIS310\n"
     ]
    }
   ],
   "source": [
    "print(\"My score is %5.4f in CIS310\" %(98.99346789))"
   ]
  },
  {
   "cell_type": "code",
   "execution_count": 27,
   "metadata": {},
   "outputs": [],
   "source": [
    "import webbrowser"
   ]
  },
  {
   "cell_type": "code",
   "execution_count": 31,
   "metadata": {},
   "outputs": [
    {
     "data": {
      "text/plain": [
       "True"
      ]
     },
     "execution_count": 31,
     "metadata": {},
     "output_type": "execute_result"
    }
   ],
   "source": [
    "webbrowser.open('https://docs.python.org/3')"
   ]
  },
  {
   "cell_type": "code",
   "execution_count": 34,
   "metadata": {},
   "outputs": [
    {
     "name": "stdout",
     "output_type": "stream",
     "text": [
      "I'm using the general purpose language python to preform data analysis\n"
     ]
    }
   ],
   "source": [
    "# Fomatted String Literals with .format\n",
    "print(\"I'm using the general purpose language {} to preform data analysis\".format(\"python\"))"
   ]
  },
  {
   "cell_type": "code",
   "execution_count": 37,
   "metadata": {},
   "outputs": [
    {
     "name": "stdout",
     "output_type": "stream",
     "text": [
      "the brown dog jumps over the fox brown\n"
     ]
    }
   ],
   "source": [
    "print(\"the {1} {2} jumps over the {0} {1}\".format('fox','brown','dog','lazy'))"
   ]
  },
  {
   "cell_type": "code",
   "execution_count": 3,
   "metadata": {},
   "outputs": [
    {
     "name": "stdout",
     "output_type": "stream",
     "text": [
      "Food     | Calories \n",
      "Apples   | 3.5      \n",
      "Almonds  | 10.9     \n"
     ]
    }
   ],
   "source": [
    "#index \n",
    "\n",
    "print('{0:8} | {1:9}' .format('Food','Calories')  )\n",
    "print('{0:8} | {1:9}' .format('Apples','3.5')  )\n",
    "print('{0:8} | {1:9}' .format('Almonds','10.9')  )"
   ]
  },
  {
   "cell_type": "code",
   "execution_count": 8,
   "metadata": {},
   "outputs": [
    {
     "name": "stdout",
     "output_type": "stream",
     "text": [
      "Food     | Calories \n",
      "Apples   | 3.5      \n",
      "Almonds  | 10.9     \n"
     ]
    }
   ],
   "source": [
    "#keywords \n",
    "print('{f:8} | {c:9}' .format(f='Food',c='Calories')  )\n",
    "print('{a:8} | {c:9}' .format(a='Apples',c='3.5')  )\n",
    "print('{0:8} | {1:9}' .format('Almonds','10.9')  )"
   ]
  },
  {
   "cell_type": "code",
   "execution_count": 10,
   "metadata": {},
   "outputs": [
    {
     "name": "stdout",
     "output_type": "stream",
     "text": [
      "My current GPA is 3.9\n"
     ]
    }
   ],
   "source": [
    "gpa = 3.893598\n",
    "print('My current GPA is {0:2.1f}'.format(gpa))"
   ]
  },
  {
   "cell_type": "code",
   "execution_count": 11,
   "metadata": {},
   "outputs": [
    {
     "name": "stdout",
     "output_type": "stream",
     "text": [
      "DR. Abdunabi  teaches CIS310 and CIS350 in Spring 2022\n"
     ]
    }
   ],
   "source": [
    "#Using f-strings\n",
    "n = 'DR. Abdunabi '\n",
    "t = 'Spring 2022'\n",
    "print(f\"{n} teaches CIS310 and CIS350 in {t}\")"
   ]
  },
  {
   "cell_type": "code",
   "execution_count": 13,
   "metadata": {},
   "outputs": [
    {
     "name": "stdout",
     "output_type": "stream",
     "text": [
      "DR. Abdunabi  teaches CIS310 and CIS350 in 'Spring 2022'\n"
     ]
    }
   ],
   "source": [
    "print(f\"{n} teaches CIS310 and CIS350 in {t!r}\")"
   ]
  },
  {
   "cell_type": "code",
   "execution_count": 15,
   "metadata": {},
   "outputs": [],
   "source": [
    "#numbers with diffrent strings \n",
    "r = 2.5\n",
    "a = (r**2)*3.1415"
   ]
  },
  {
   "cell_type": "code",
   "execution_count": 16,
   "metadata": {},
   "outputs": [
    {
     "name": "stdout",
     "output_type": "stream",
     "text": [
      " The Area for the radius 2.50 is 19.63\n"
     ]
    }
   ],
   "source": [
    "print(f\" The Area for the radius {r:2.2f} is {a:2.2f}\")"
   ]
  },
  {
   "cell_type": "code",
   "execution_count": 19,
   "metadata": {},
   "outputs": [
    {
     "name": "stdout",
     "output_type": "stream",
     "text": [
      "4\n",
      "r=4\n"
     ]
    }
   ],
   "source": [
    "#Python input Function\n",
    "r = input()\n",
    "print(f\"r={r}\")"
   ]
  },
  {
   "cell_type": "code",
   "execution_count": 22,
   "metadata": {},
   "outputs": [
    {
     "name": "stdout",
     "output_type": "stream",
     "text": [
      "enter the value if r:4\n",
      "r = 4\n"
     ]
    }
   ],
   "source": [
    "print(\"enter the value if r:\", end = \"\")\n",
    "r = input()\n",
    "print(f\"r = {r}\")"
   ]
  },
  {
   "cell_type": "code",
   "execution_count": 26,
   "metadata": {},
   "outputs": [
    {
     "name": "stdout",
     "output_type": "stream",
     "text": [
      "1 3\n"
     ]
    }
   ],
   "source": [
    "#Python Casting \n",
    "#casting to int \n",
    "x = int('1') #will be 1\n",
    "y = int(3.5) #will be 3\n",
    "print(x,y)"
   ]
  },
  {
   "cell_type": "code",
   "execution_count": 30,
   "metadata": {},
   "outputs": [],
   "source": [
    "#cast to float \n",
    "x = float(1)\n",
    "y = float('3')\n",
    "z = float(\"4.5\")"
   ]
  },
  {
   "cell_type": "code",
   "execution_count": 31,
   "metadata": {},
   "outputs": [
    {
     "name": "stdout",
     "output_type": "stream",
     "text": [
      "1.0 3.0 4.5\n"
     ]
    }
   ],
   "source": [
    "print(x,y,z)"
   ]
  },
  {
   "cell_type": "code",
   "execution_count": 32,
   "metadata": {},
   "outputs": [
    {
     "data": {
      "text/plain": [
       "float"
      ]
     },
     "execution_count": 32,
     "metadata": {},
     "output_type": "execute_result"
    }
   ],
   "source": [
    "type(z)"
   ]
  },
  {
   "cell_type": "code",
   "execution_count": 33,
   "metadata": {},
   "outputs": [],
   "source": [
    "#cast to string \n",
    "x = str(1)\n",
    "y = str(3.5)\n"
   ]
  },
  {
   "cell_type": "code",
   "execution_count": 34,
   "metadata": {},
   "outputs": [
    {
     "data": {
      "text/plain": [
       "'1'"
      ]
     },
     "execution_count": 34,
     "metadata": {},
     "output_type": "execute_result"
    }
   ],
   "source": [
    "x"
   ]
  },
  {
   "cell_type": "code",
   "execution_count": 35,
   "metadata": {},
   "outputs": [
    {
     "data": {
      "text/plain": [
       "'3.5'"
      ]
     },
     "execution_count": 35,
     "metadata": {},
     "output_type": "execute_result"
    }
   ],
   "source": [
    "y"
   ]
  },
  {
   "cell_type": "code",
   "execution_count": null,
   "metadata": {},
   "outputs": [],
   "source": []
  }
 ],
 "metadata": {
  "kernelspec": {
   "display_name": "Python 3.7 - default",
   "language": "python",
   "name": "py37_default"
  },
  "language_info": {
   "codemirror_mode": {
    "name": "ipython",
    "version": 3
   },
   "file_extension": ".py",
   "mimetype": "text/x-python",
   "name": "python",
   "nbconvert_exporter": "python",
   "pygments_lexer": "ipython3",
   "version": "3.7.7"
  }
 },
 "nbformat": 4,
 "nbformat_minor": 4
}
