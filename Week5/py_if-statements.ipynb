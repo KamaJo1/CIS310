{
 "cells": [
  {
   "cell_type": "markdown",
   "metadata": {},
   "source": [
    "# Joseph Kamara\n",
    "## Week 5: 2/10/2022\n",
    "### Python Built-in Data Structures - if Statements \n"
   ]
  },
  {
   "cell_type": "markdown",
   "metadata": {},
   "source": [
    "**The format of the if-statmements**\n",
    "```\n",
    "if conditional: \n",
    "    preform actual1\n",
    "elif condition2: \n",
    "    preform action2 \n",
    "else: \n",
    "    preform action3\n",
    "````"
   ]
  },
  {
   "cell_type": "code",
   "execution_count": 1,
   "metadata": {},
   "outputs": [
    {
     "name": "stdout",
     "output_type": "stream",
     "text": [
      "Apples\n"
     ]
    }
   ],
   "source": [
    "#if statement \n",
    "if 5 > 4: \n",
    "    print ('Apples')\n"
   ]
  },
  {
   "cell_type": "code",
   "execution_count": 2,
   "metadata": {},
   "outputs": [
    {
     "name": "stdout",
     "output_type": "stream",
     "text": [
      "10 is grater than 5\n"
     ]
    }
   ],
   "source": [
    "x = 10\n",
    "y = 5\n",
    "if x> y : \n",
    "    print(x, \"is grater than\", y)"
   ]
  },
  {
   "cell_type": "code",
   "execution_count": 3,
   "metadata": {},
   "outputs": [],
   "source": [
    "x = 10\n",
    "y = 5\n",
    "if x< y : \n",
    "    print(x, \"is less than\", y)"
   ]
  },
  {
   "cell_type": "code",
   "execution_count": 5,
   "metadata": {},
   "outputs": [
    {
     "name": "stdout",
     "output_type": "stream",
     "text": [
      "Omg this is so true H 5\n"
     ]
    }
   ],
   "source": [
    "#if -else statement \n",
    "value = 5 \n",
    "if value == 5:\n",
    "    print(\"Omg this is so true H\",value)\n",
    "else :\n",
    "        print(\"lets try again!\")\n",
    "        "
   ]
  },
  {
   "cell_type": "code",
   "execution_count": 9,
   "metadata": {},
   "outputs": [
    {
     "name": "stdout",
     "output_type": "stream",
     "text": [
      "Then, redo test2\n"
     ]
    }
   ],
   "source": [
    "test1 = 98 \n",
    "test2 = 67 \n",
    "\n",
    "if test1 < test2:\n",
    "    print('you may redo test1')\n",
    "else:\n",
    "        print('Then, redo test2')"
   ]
  },
  {
   "cell_type": "code",
   "execution_count": 10,
   "metadata": {},
   "outputs": [
    {
     "name": "stdout",
     "output_type": "stream",
     "text": [
      "redo test2\n"
     ]
    }
   ],
   "source": [
    "if test2 < test1: \n",
    "    print('redo test2')"
   ]
  },
  {
   "cell_type": "code",
   "execution_count": 14,
   "metadata": {},
   "outputs": [
    {
     "name": "stdout",
     "output_type": "stream",
     "text": [
      "test 2 is grater than test1 \n",
      "you may think about redoing test1, instead?\n",
      "After if-statement!\n"
     ]
    }
   ],
   "source": [
    "#if-elif statement \n",
    "test1 = 81 \n",
    "test2 = 89\n",
    "if test1 > test2: \n",
    "    print(\"Good apples man\")\n",
    "    print(\"These are some really good apples\")\n",
    "elif test2> test1: \n",
    "    print(\"test 2 is grater than test1 \")\n",
    "    print(\"you may think about redoing test1, instead?\")\n",
    "else: \n",
    "    print(\"You may take either test one or test2\")\n",
    "    print(\"you grade on  both exams need some help?\")\n",
    "    \n",
    "print (\"After if-statement!\")"
   ]
  },
  {
   "cell_type": "code",
   "execution_count": 1,
   "metadata": {},
   "outputs": [
    {
     "name": "stdout",
     "output_type": "stream",
     "text": [
      "Hi five!\n"
     ]
    }
   ],
   "source": [
    "#short hand if Statement\n",
    "if 5>4: print(\"Hi five!\")"
   ]
  },
  {
   "cell_type": "code",
   "execution_count": 4,
   "metadata": {},
   "outputs": [
    {
     "name": "stdout",
     "output_type": "stream",
     "text": [
      "1\n",
      "2\n",
      "3\n"
     ]
    }
   ],
   "source": [
    "if 'c' in 'cis':print('1'); print('2'); print('3');"
   ]
  },
  {
   "cell_type": "code",
   "execution_count": 7,
   "metadata": {},
   "outputs": [
    {
     "name": "stdout",
     "output_type": "stream",
     "text": [
      "test1\n"
     ]
    }
   ],
   "source": [
    "#short Hand If.. else \n",
    "test1 = 89\n",
    "test2 = 69\n",
    "print('test1') if test1>test2 else print('test2')"
   ]
  },
  {
   "cell_type": "code",
   "execution_count": 9,
   "metadata": {},
   "outputs": [
    {
     "name": "stdout",
     "output_type": "stream",
     "text": [
      "let's go to the  beach\n"
     ]
    }
   ],
   "source": [
    "raining = False \n",
    "print(\"let's go to the \", 'beach' if not raining else 'rec center')"
   ]
  },
  {
   "cell_type": "code",
   "execution_count": 10,
   "metadata": {},
   "outputs": [
    {
     "name": "stdout",
     "output_type": "stream",
     "text": [
      "let's go to the  rec center\n"
     ]
    }
   ],
   "source": [
    "raining = True \n",
    "print(\"let's go to the \", 'beach' if not raining else 'rec center') \n"
   ]
  },
  {
   "cell_type": "code",
   "execution_count": 11,
   "metadata": {},
   "outputs": [
    {
     "name": "stdout",
     "output_type": "stream",
     "text": [
      "both condations are evaluaited true!\n"
     ]
    }
   ],
   "source": [
    "#and \n",
    "s1,s2,s3 = 87,75,93\n",
    "if (s1>s2) and (s3 >s2):\n",
    "    print(\"both condations are evaluaited true!\")"
   ]
  },
  {
   "cell_type": "code",
   "execution_count": 14,
   "metadata": {},
   "outputs": [],
   "source": [
    "# using pass do noting \n",
    "if s1>60: \n",
    "    \n",
    "    pass\n",
    "    "
   ]
  },
  {
   "cell_type": "code",
   "execution_count": 15,
   "metadata": {},
   "outputs": [
    {
     "name": "stdout",
     "output_type": "stream",
     "text": [
      "THe who word is in the list\n"
     ]
    }
   ],
   "source": [
    "if 'who' in ['what', 'which','where', 'how','who']: print('THe who word is in the list')"
   ]
  },
  {
   "cell_type": "code",
   "execution_count": 21,
   "metadata": {},
   "outputs": [
    {
     "name": "stdout",
     "output_type": "stream",
     "text": [
      "Hello Joe\n",
      "I don't'Know who you are\n"
     ]
    }
   ],
   "source": [
    "#easy way to use built in functions, instead of if state,emt \n",
    "name = {'Fred': 'Hello Fred', 'Rama':'Hello Rama', 'Joe':'Hello Joe'}\n",
    "print (name.get('Joe', 'I don''Know who you are'))\n",
    "\n",
    "print (name.get('Rick', \"I don't'Know who you are\"))"
   ]
  },
  {
   "cell_type": "code",
   "execution_count": null,
   "metadata": {},
   "outputs": [],
   "source": []
  }
 ],
 "metadata": {
  "kernelspec": {
   "display_name": "Python 3.7 - default",
   "language": "python",
   "name": "py37_default"
  },
  "language_info": {
   "codemirror_mode": {
    "name": "ipython",
    "version": 3
   },
   "file_extension": ".py",
   "mimetype": "text/x-python",
   "name": "python",
   "nbconvert_exporter": "python",
   "pygments_lexer": "ipython3",
   "version": "3.7.7"
  }
 },
 "nbformat": 4,
 "nbformat_minor": 4
}
